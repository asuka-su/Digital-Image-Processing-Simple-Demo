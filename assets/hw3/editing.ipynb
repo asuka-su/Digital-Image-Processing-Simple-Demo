{
 "cells": [
  {
   "cell_type": "code",
   "execution_count": null,
   "metadata": {},
   "outputs": [],
   "source": [
    "from matplotlib import pyplot as plt\n",
    "import numpy as np\n",
    "import torch\n",
    "import torch.nn as nn\n",
    "import torchvision.utils as vutils\n",
    "\n",
    "image_size = 64\n",
    "nc = 3\n",
    "nz = 100\n",
    "ngf = 64\n",
    "device = torch.device(\"cuda\" if torch.cuda.is_available() else \"cpu\")\n",
    "\n",
    "class Generator(nn.Module):\n",
    "    def __init__(self):\n",
    "        super(Generator, self).__init__()\n",
    "        self.main = nn.Sequential(\n",
    "            nn.ConvTranspose2d(nz, ngf * 8, 4, 1, 0, bias=False), \n",
    "            nn.BatchNorm2d(ngf * 8), \n",
    "            nn.ReLU(True), \n",
    "            nn.ConvTranspose2d(ngf * 8, ngf * 4, 4, 2, 1, bias=False), \n",
    "            nn.BatchNorm2d(ngf * 4), \n",
    "            nn.ReLU(True), \n",
    "            nn.ConvTranspose2d(ngf * 4, ngf * 2, 4, 2, 1, bias=False), \n",
    "            nn.BatchNorm2d(ngf * 2), \n",
    "            nn.ReLU(True), \n",
    "            nn.ConvTranspose2d(ngf * 2, ngf, 4, 2, 1, bias=False), \n",
    "            nn.BatchNorm2d(ngf), \n",
    "            nn.ReLU(True), \n",
    "            nn.ConvTranspose2d(ngf, nc, 4, 2, 1, bias=False), \n",
    "            nn.Tanh()\n",
    "        )\n",
    "\n",
    "    def forward(self, input):\n",
    "        return self.main(input)\n",
    "\n",
    "\n",
    "netG = Generator().to(device)\n",
    "netG.load_state_dict(torch.load('../checkpoint/dcgan_checkpoint.pth'))"
   ]
  },
  {
   "cell_type": "code",
   "execution_count": null,
   "metadata": {},
   "outputs": [],
   "source": [
    "def seed_given_generator(seed, va):\n",
    "    torch.manual_seed(seed)\n",
    "    test_batch_size = 64\n",
    "    noise = torch.randn(test_batch_size, nz, 1, 1, device=device)\n",
    "    \n",
    "    if va is not None:\n",
    "        noise = noise + va\n",
    "\n",
    "    with torch.no_grad():\n",
    "        fake = netG(noise).detach().cpu()\n",
    "    vis = vutils.make_grid(fake, padding=2, normalize=True)\n",
    "    vis = (vis.numpy() * 255).astype(np.uint8).transpose(1, 2, 0)\n",
    "\n",
    "    return vis"
   ]
  },
  {
   "cell_type": "code",
   "execution_count": null,
   "metadata": {},
   "outputs": [],
   "source": [
    "plt.figure(figsize=(8, 8))\n",
    "plt.axis('off')\n",
    "plt.title('Result 42')\n",
    "plt.imshow(seed_given_generator(42, None))\n",
    "plt.show()"
   ]
  },
  {
   "cell_type": "code",
   "execution_count": null,
   "metadata": {},
   "outputs": [],
   "source": [
    "torch.manual_seed(42)\n",
    "noise = torch.randn(64, nz, 1, 1, device=device)\n",
    "\n",
    "male = [2, 11, 12, 21, 22, 26, 27, 29, 33, 62]\n",
    "female = [0, 4, 10, 15, 20, 24, 28, 36, 41, 45, 56, 58]\n",
    "\n",
    "va = noise[male].mean(dim=0) - noise[female].mean(dim=0)"
   ]
  },
  {
   "cell_type": "code",
   "execution_count": null,
   "metadata": {},
   "outputs": [],
   "source": [
    "plt.figure(figsize=(8, 8))\n",
    "plt.axis('off')\n",
    "plt.title('Result 999')\n",
    "plt.imshow(seed_given_generator(999, None))\n",
    "plt.show()"
   ]
  },
  {
   "cell_type": "code",
   "execution_count": null,
   "metadata": {},
   "outputs": [],
   "source": [
    "plt.figure(figsize=(8, 8))\n",
    "plt.axis('off')\n",
    "plt.title('Result 999 Male')\n",
    "plt.imshow(seed_given_generator(999, va))\n",
    "plt.show()"
   ]
  }
 ],
 "metadata": {
  "kernelspec": {
   "display_name": "DIP",
   "language": "python",
   "name": "python3"
  },
  "language_info": {
   "codemirror_mode": {
    "name": "ipython",
    "version": 3
   },
   "file_extension": ".py",
   "mimetype": "text/x-python",
   "name": "python",
   "nbconvert_exporter": "python",
   "pygments_lexer": "ipython3",
   "version": "3.12.7"
  }
 },
 "nbformat": 4,
 "nbformat_minor": 2
}
